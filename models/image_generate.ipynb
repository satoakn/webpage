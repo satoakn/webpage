{
 "cells": [
  {
   "cell_type": "markdown",
   "metadata": {
    "id": "kgE1nH5k1PTO"
   },
   "source": [
    "# 1 準備"
   ]
  },
  {
   "cell_type": "code",
   "execution_count": 1,
   "metadata": {
    "colab": {
     "base_uri": "https://localhost:8080/"
    },
    "executionInfo": {
     "elapsed": 12,
     "status": "ok",
     "timestamp": 1655542550030,
     "user": {
      "displayName": "大池樹",
      "userId": "13911521047325534107"
     },
     "user_tz": -540
    },
    "id": "uwfnzTg60084",
    "outputId": "c282a71a-827f-43bc-d261-f50e5e3f613e"
   },
   "outputs": [
    {
     "name": "stdout",
     "output_type": "stream",
     "text": [
      "Sat Jun 18 08:55:49 2022       \n",
      "+-----------------------------------------------------------------------------+\n",
      "| NVIDIA-SMI 460.32.03    Driver Version: 460.32.03    CUDA Version: 11.2     |\n",
      "|-------------------------------+----------------------+----------------------+\n",
      "| GPU  Name        Persistence-M| Bus-Id        Disp.A | Volatile Uncorr. ECC |\n",
      "| Fan  Temp  Perf  Pwr:Usage/Cap|         Memory-Usage | GPU-Util  Compute M. |\n",
      "|                               |                      |               MIG M. |\n",
      "|===============================+======================+======================|\n",
      "|   0  Tesla T4            Off  | 00000000:00:04.0 Off |                    0 |\n",
      "| N/A   40C    P8    12W /  70W |      0MiB / 15109MiB |      0%      Default |\n",
      "|                               |                      |                  N/A |\n",
      "+-------------------------------+----------------------+----------------------+\n",
      "                                                                               \n",
      "+-----------------------------------------------------------------------------+\n",
      "| Processes:                                                                  |\n",
      "|  GPU   GI   CI        PID   Type   Process name                  GPU Memory |\n",
      "|        ID   ID                                                   Usage      |\n",
      "|=============================================================================|\n",
      "|  No running processes found                                                 |\n",
      "+-----------------------------------------------------------------------------+\n"
     ]
    }
   ],
   "source": [
    "!nvidia-smi"
   ]
  },
  {
   "cell_type": "code",
   "execution_count": 2,
   "metadata": {
    "colab": {
     "base_uri": "https://localhost:8080/"
    },
    "executionInfo": {
     "elapsed": 2985,
     "status": "ok",
     "timestamp": 1655542553010,
     "user": {
      "displayName": "大池樹",
      "userId": "13911521047325534107"
     },
     "user_tz": -540
    },
    "id": "iL3vr50105jh",
    "outputId": "693b9ec8-1a5e-4019-ee19-d99099e3993f"
   },
   "outputs": [
    {
     "data": {
      "text/plain": [
       "<torch._C.Generator at 0x7fc24bfa70f0>"
      ]
     },
     "execution_count": 2,
     "metadata": {},
     "output_type": "execute_result"
    }
   ],
   "source": [
    "# データ作成に使用するライブラリ\n",
    "from torchvision import datasets\n",
    "import torchvision.transforms as transforms\n",
    "from torch.utils.data import DataLoader\n",
    "\n",
    "# モデル作成に使用するライブラリ\n",
    "import torch\n",
    "import torch.nn as nn\n",
    "import torch.optim as optim\n",
    "import torch.nn.functional as F\n",
    "\n",
    "# よく使用するライブラリ\n",
    "import matplotlib.pyplot as plt\n",
    "import numpy as np\n",
    "\n",
    "# モデルの保存と読み込みするライブラリ\n",
    "import pickle\n",
    "\n",
    "torch.manual_seed(1)"
   ]
  },
  {
   "cell_type": "code",
   "execution_count": 3,
   "metadata": {
    "executionInfo": {
     "elapsed": 4,
     "status": "ok",
     "timestamp": 1655542553011,
     "user": {
      "displayName": "大池樹",
      "userId": "13911521047325534107"
     },
     "user_tz": -540
    },
    "id": "sz2Jgt9V2u-3"
   },
   "outputs": [],
   "source": [
    "batch_size = 100\n",
    "n_channel = 100\n",
    "n_epoch = 10\n",
    "n_class = 10"
   ]
  },
  {
   "cell_type": "code",
   "execution_count": 4,
   "metadata": {
    "colab": {
     "base_uri": "https://localhost:8080/",
     "height": 431,
     "referenced_widgets": [
      "a8c798a700d74216a8455b5a0b85c16a",
      "fb0bce70a33143fcaf1c3e0544803db4",
      "2a35b7bb007e4818970ba5f3157c3dc6",
      "b3e2d62ef1dd43868797c152e92f79b2",
      "975341cf13b44446ac902aa59114b1c6",
      "fc3a7dcbe36f4cca98fe71a7b8c2a992",
      "f1062ea494c44b2e8cb1ee5532b0ca39",
      "ecba3590f2e7487d94d498f8cb56cc9e",
      "fe07c42961324c17aba78f6108087e65",
      "fac90bd1d6e04008b2ae9f4281934e7c",
      "f73cc6556ca44df8bd58f6704d0a05cd",
      "965914be98fe433ebc984a870e81ffb4",
      "a9129e14faa247ab893895cc8ce9010c",
      "76ac93660aee4c38aeef513027eb4b5e",
      "31f696eeb227485dbacd9a0a8b605905",
      "771254bbe56e4a63aa827d23b5a4c694",
      "b83d1da103ae4f2d80cd94163639a88a",
      "0cf42ae68c23436e9686f8006a80cf9c",
      "44ac9adf498542ebb85845f0d59b0efa",
      "0928d28359e2459781081dc134d0ef8b",
      "4f972da23d1849bf9e0c69bd6c97a169",
      "60006b37160d41d690f6e10ffe8c1626",
      "e27d3b9efabd44bca3399acf9ae69806",
      "8afbc24dddca4b1db79259e44f8e5f8f",
      "9dcc5c5c197d41d38f5f3e80af6c4919",
      "ed1925fbc7774506989ef2cabe4d8974",
      "a6f52da00bf4485f95fe3ac72f46c741",
      "b35d9ffee34844f793185cf39332d32b",
      "ec960a0723b24a2eae670f5ca1853f75",
      "68c59d2eace34e9cbd14c17cce021b4e",
      "b30d6f8614394ceda95bf8562a3badc4",
      "57133079d0744627b16a98b3c39fdf45",
      "8581091a903f42a4954891122c0b3244",
      "ed61034ad204453ea00cc37f4c0ee6b8",
      "e38486bebbe840089bd7a4ce439a94df",
      "1a0c3e7c8f2841d69a23f6fc817f9265",
      "db6b71a6a14646e9a4111d1bb0c3ecbe",
      "2b82125dce114fb68c0fe81cb1aad972",
      "66ebbb27c6864cd8bde9ac7e66fd74bc",
      "01a6f82fb50b419db8838ab26dc13c13",
      "4807c567ac8f468f853e36d66849910f",
      "a74b315bcb3a41029973c597a2513485",
      "05bc8accd7d241d692634d5e8087b4cb",
      "4ea5273da11146d589d97b7164f2a6dc"
     ]
    },
    "executionInfo": {
     "elapsed": 1284,
     "status": "ok",
     "timestamp": 1655542554292,
     "user": {
      "displayName": "大池樹",
      "userId": "13911521047325534107"
     },
     "user_tz": -540
    },
    "id": "Ewq9Nb8y07it",
    "outputId": "5adc3cfb-0d81-4ac6-cabe-efd53bcff808"
   },
   "outputs": [
    {
     "name": "stdout",
     "output_type": "stream",
     "text": [
      "Downloading http://yann.lecun.com/exdb/mnist/train-images-idx3-ubyte.gz\n",
      "Downloading http://yann.lecun.com/exdb/mnist/train-images-idx3-ubyte.gz to ./data/MNIST/raw/train-images-idx3-ubyte.gz\n"
     ]
    },
    {
     "data": {
      "application/vnd.jupyter.widget-view+json": {
       "model_id": "a8c798a700d74216a8455b5a0b85c16a",
       "version_major": 2,
       "version_minor": 0
      },
      "text/plain": [
       "  0%|          | 0/9912422 [00:00<?, ?it/s]"
      ]
     },
     "metadata": {},
     "output_type": "display_data"
    },
    {
     "name": "stdout",
     "output_type": "stream",
     "text": [
      "Extracting ./data/MNIST/raw/train-images-idx3-ubyte.gz to ./data/MNIST/raw\n",
      "\n",
      "Downloading http://yann.lecun.com/exdb/mnist/train-labels-idx1-ubyte.gz\n",
      "Downloading http://yann.lecun.com/exdb/mnist/train-labels-idx1-ubyte.gz to ./data/MNIST/raw/train-labels-idx1-ubyte.gz\n"
     ]
    },
    {
     "data": {
      "application/vnd.jupyter.widget-view+json": {
       "model_id": "965914be98fe433ebc984a870e81ffb4",
       "version_major": 2,
       "version_minor": 0
      },
      "text/plain": [
       "  0%|          | 0/28881 [00:00<?, ?it/s]"
      ]
     },
     "metadata": {},
     "output_type": "display_data"
    },
    {
     "name": "stdout",
     "output_type": "stream",
     "text": [
      "Extracting ./data/MNIST/raw/train-labels-idx1-ubyte.gz to ./data/MNIST/raw\n",
      "\n",
      "Downloading http://yann.lecun.com/exdb/mnist/t10k-images-idx3-ubyte.gz\n",
      "Downloading http://yann.lecun.com/exdb/mnist/t10k-images-idx3-ubyte.gz to ./data/MNIST/raw/t10k-images-idx3-ubyte.gz\n"
     ]
    },
    {
     "data": {
      "application/vnd.jupyter.widget-view+json": {
       "model_id": "e27d3b9efabd44bca3399acf9ae69806",
       "version_major": 2,
       "version_minor": 0
      },
      "text/plain": [
       "  0%|          | 0/1648877 [00:00<?, ?it/s]"
      ]
     },
     "metadata": {},
     "output_type": "display_data"
    },
    {
     "name": "stdout",
     "output_type": "stream",
     "text": [
      "Extracting ./data/MNIST/raw/t10k-images-idx3-ubyte.gz to ./data/MNIST/raw\n",
      "\n",
      "Downloading http://yann.lecun.com/exdb/mnist/t10k-labels-idx1-ubyte.gz\n",
      "Downloading http://yann.lecun.com/exdb/mnist/t10k-labels-idx1-ubyte.gz to ./data/MNIST/raw/t10k-labels-idx1-ubyte.gz\n"
     ]
    },
    {
     "data": {
      "application/vnd.jupyter.widget-view+json": {
       "model_id": "ed61034ad204453ea00cc37f4c0ee6b8",
       "version_major": 2,
       "version_minor": 0
      },
      "text/plain": [
       "  0%|          | 0/4542 [00:00<?, ?it/s]"
      ]
     },
     "metadata": {},
     "output_type": "display_data"
    },
    {
     "name": "stdout",
     "output_type": "stream",
     "text": [
      "Extracting ./data/MNIST/raw/t10k-labels-idx1-ubyte.gz to ./data/MNIST/raw\n",
      "\n"
     ]
    }
   ],
   "source": [
    "# データ作成に使用するライブラリ\n",
    "transform = transforms.Compose([transforms.ToTensor(), transforms.Normalize((0.5,), (0.5,))])\n",
    "\n",
    "root = './data'\n",
    "mnist_train = datasets.MNIST(root=root,download=True,train=True,transform=transform)\n",
    "dataloader = DataLoader(mnist_train,batch_size=batch_size,shuffle=True)"
   ]
  },
  {
   "cell_type": "code",
   "execution_count": 5,
   "metadata": {
    "colab": {
     "base_uri": "https://localhost:8080/"
    },
    "executionInfo": {
     "elapsed": 667,
     "status": "ok",
     "timestamp": 1655542554955,
     "user": {
      "displayName": "大池樹",
      "userId": "13911521047325534107"
     },
     "user_tz": -540
    },
    "id": "Sv9ZMSuB09Zj",
    "outputId": "efe6df5a-5413-467d-ecd5-0bee8d3d2e00"
   },
   "outputs": [
    {
     "data": {
      "text/plain": [
       "device(type='cuda')"
      ]
     },
     "execution_count": 5,
     "metadata": {},
     "output_type": "execute_result"
    }
   ],
   "source": [
    "device = torch.device('cuda' if torch.cuda.is_available() else 'cpu')\n",
    "device"
   ]
  },
  {
   "cell_type": "code",
   "execution_count": 7,
   "metadata": {
    "colab": {
     "base_uri": "https://localhost:8080/"
    },
    "executionInfo": {
     "elapsed": 18398,
     "status": "ok",
     "timestamp": 1655542582105,
     "user": {
      "displayName": "大池樹",
      "userId": "13911521047325534107"
     },
     "user_tz": -540
    },
    "id": "gkm3Ds0YTjwF",
    "outputId": "1b2f33df-8a32-4135-9df6-737911eab242"
   },
   "outputs": [
    {
     "name": "stdout",
     "output_type": "stream",
     "text": [
      "Mounted at /content/gdrive\n"
     ]
    }
   ],
   "source": [
    "# Google ドライブにマウント\n",
    "from google.colab import drive\n",
    "drive.mount('/content/gdrive')"
   ]
  },
  {
   "cell_type": "code",
   "execution_count": 8,
   "metadata": {
    "colab": {
     "base_uri": "https://localhost:8080/"
    },
    "executionInfo": {
     "elapsed": 381,
     "status": "ok",
     "timestamp": 1655542589724,
     "user": {
      "displayName": "大池樹",
      "userId": "13911521047325534107"
     },
     "user_tz": -540
    },
    "id": "7kS84ff9Tjy6",
    "outputId": "33f9b923-b83a-4c3c-8809-8621f543cab4"
   },
   "outputs": [
    {
     "name": "stdout",
     "output_type": "stream",
     "text": [
      "/content/gdrive/MyDrive\n"
     ]
    }
   ],
   "source": [
    "%cd '/content/gdrive/MyDrive/'"
   ]
  },
  {
   "cell_type": "code",
   "execution_count": 9,
   "metadata": {
    "colab": {
     "base_uri": "https://localhost:8080/"
    },
    "executionInfo": {
     "elapsed": 3,
     "status": "ok",
     "timestamp": 1655542590204,
     "user": {
      "displayName": "大池樹",
      "userId": "13911521047325534107"
     },
     "user_tz": -540
    },
    "id": "YScTPyc9Tl7q",
    "outputId": "5912de29-c011-4cc7-8bac-2e636be970aa"
   },
   "outputs": [
    {
     "name": "stdout",
     "output_type": "stream",
     "text": [
      "mkdir: cannot create directory ‘./result’: File exists\n"
     ]
    }
   ],
   "source": [
    "!mkdir './result'"
   ]
  },
  {
   "cell_type": "markdown",
   "metadata": {
    "id": "iE3Oujii1VC9"
   },
   "source": [
    "# 2 モデル"
   ]
  },
  {
   "cell_type": "code",
   "execution_count": 10,
   "metadata": {
    "executionInfo": {
     "elapsed": 2,
     "status": "ok",
     "timestamp": 1655542590621,
     "user": {
      "displayName": "大池樹",
      "userId": "13911521047325534107"
     },
     "user_tz": -540
    },
    "id": "8MifV4DM0_L4"
   },
   "outputs": [],
   "source": [
    "class Generator(nn.Module):\n",
    "\n",
    "    def __init__(self):\n",
    "\n",
    "        super(Generator, self).__init__()\n",
    "\n",
    "        # ニューラルネットワークの構造を定義する\n",
    "        self.layers = nn.ModuleDict({\n",
    "            'layer0': nn.Sequential(\n",
    "                nn.ConvTranspose2d(n_channel+n_class, 512, 3, 1, 0),\n",
    "                nn.BatchNorm2d(512),\n",
    "                nn.ReLU()\n",
    "            ), \n",
    "            'layer1': nn.Sequential(\n",
    "                nn.ConvTranspose2d(512, 256, 3, 2, 0),\n",
    "                nn.BatchNorm2d(256),\n",
    "                nn.ReLU()\n",
    "            ),\n",
    "            'layer2': nn.Sequential(\n",
    "                nn.ConvTranspose2d(256, 128, 4, 2, 1),\n",
    "                nn.BatchNorm2d(128),\n",
    "                nn.ReLU()\n",
    "            ),\n",
    "            'layer3': nn.Sequential(\n",
    "                nn.ConvTranspose2d(128, 1, 4, 2, 1),\n",
    "                nn.Tanh()\n",
    "            )\n",
    "        })\n",
    "\n",
    "    def forward(self, z):\n",
    "\n",
    "        for layer in self.layers.values(): \n",
    "            z = layer(z)\n",
    "        return z"
   ]
  },
  {
   "cell_type": "code",
   "execution_count": 11,
   "metadata": {
    "executionInfo": {
     "elapsed": 2,
     "status": "ok",
     "timestamp": 1655542590622,
     "user": {
      "displayName": "大池樹",
      "userId": "13911521047325534107"
     },
     "user_tz": -540
    },
    "id": "FlA2GoMu2_FT"
   },
   "outputs": [],
   "source": [
    "class Discriminator(nn.Module):\n",
    "\n",
    "    def __init__(self):\n",
    "\n",
    "        super(Discriminator, self).__init__()\n",
    "\n",
    "        self.layers = nn.ModuleDict({\n",
    "            'layer0': nn.Sequential(\n",
    "                nn.Conv2d(1+n_class, 128, 4, 2, 1),\n",
    "                nn.LeakyReLU(negative_slope=0.2)\n",
    "            ),\n",
    "            'layer1': nn.Sequential(\n",
    "                nn.Conv2d(128, 256, 4, 2, 1),\n",
    "                nn.BatchNorm2d(256),\n",
    "                nn.LeakyReLU(negative_slope=0.2)\n",
    "            ),\n",
    "            'layer2': nn.Sequential(\n",
    "                nn.Conv2d(256, 512, 3, 2, 0),\n",
    "                nn.BatchNorm2d(512),\n",
    "                nn.LeakyReLU(negative_slope=0.2)\n",
    "            ),\n",
    "            'layer3': nn.Sequential(\n",
    "                nn.Conv2d(512, 1, 3, 1, 0),\n",
    "                nn.Sigmoid()\n",
    "            )    \n",
    "        })\n",
    "\n",
    "    def forward(self, x):\n",
    "        for layer in self.layers.values():\n",
    "            x = layer(x)\n",
    "        return x.squeeze()"
   ]
  },
  {
   "cell_type": "code",
   "execution_count": 12,
   "metadata": {
    "executionInfo": {
     "elapsed": 11124,
     "status": "ok",
     "timestamp": 1655542601744,
     "user": {
      "displayName": "大池樹",
      "userId": "13911521047325534107"
     },
     "user_tz": -540
    },
    "id": "pTD8r95O3BXI"
   },
   "outputs": [],
   "source": [
    "generator = Generator().to(device)\n",
    "discriminator = Discriminator().to(device)"
   ]
  },
  {
   "cell_type": "code",
   "execution_count": 13,
   "metadata": {
    "executionInfo": {
     "elapsed": 7,
     "status": "ok",
     "timestamp": 1655542601745,
     "user": {
      "displayName": "大池樹",
      "userId": "13911521047325534107"
     },
     "user_tz": -540
    },
    "id": "kSRdfJEb1BVR"
   },
   "outputs": [],
   "source": [
    "criterion = nn.BCELoss()\n",
    "\n",
    "optimizerG = optim.Adam(generator.parameters(), lr = 0.0002, betas=(0.5, 0.999), weight_decay=1e-5) \n",
    "optimizerD = optim.Adam(discriminator.parameters(), lr = 0.0002, betas=(0.5, 0.999), weight_decay=1e-5)"
   ]
  },
  {
   "cell_type": "markdown",
   "metadata": {
    "id": "k0GbKOSR5BZv"
   },
   "source": [
    "# 3 条件指定用関数"
   ]
  },
  {
   "cell_type": "code",
   "execution_count": 14,
   "metadata": {
    "executionInfo": {
     "elapsed": 5,
     "status": "ok",
     "timestamp": 1655542601745,
     "user": {
      "displayName": "大池樹",
      "userId": "13911521047325534107"
     },
     "user_tz": -540
    },
    "id": "vHsxGjjL5E5L"
   },
   "outputs": [],
   "source": [
    "def onehot_encode(label, device):\n",
    "  \n",
    "    eye = torch.eye(n_class, device=device)\n",
    "    return eye[label].view(-1, n_class, 1, 1) "
   ]
  },
  {
   "cell_type": "code",
   "execution_count": 15,
   "metadata": {
    "executionInfo": {
     "elapsed": 4,
     "status": "ok",
     "timestamp": 1655542601745,
     "user": {
      "displayName": "大池樹",
      "userId": "13911521047325534107"
     },
     "user_tz": -540
    },
    "id": "HqmLEHVX5E7g"
   },
   "outputs": [],
   "source": [
    "def concat_image_label(image, label, device):\n",
    "\n",
    "    B, C, H, W = image.shape\n",
    "    \n",
    "    oh_label = onehot_encode(label, device)\n",
    "    oh_label = oh_label.expand(B, n_class, H, W)\n",
    "    return torch.cat((image, oh_label), dim=1)"
   ]
  },
  {
   "cell_type": "code",
   "execution_count": 16,
   "metadata": {
    "executionInfo": {
     "elapsed": 5,
     "status": "ok",
     "timestamp": 1655542601746,
     "user": {
      "displayName": "大池樹",
      "userId": "13911521047325534107"
     },
     "user_tz": -540
    },
    "id": "meOmEaGl5E-Y"
   },
   "outputs": [],
   "source": [
    "def concat_noise_label(noise, label, device):\n",
    "  \n",
    "    oh_label = onehot_encode(label, device)\n",
    "    return torch.cat((noise, oh_label), dim=1)"
   ]
  },
  {
   "cell_type": "markdown",
   "metadata": {
    "id": "kFDU3iDP1Y3e"
   },
   "source": [
    "# 4 モデルの学習"
   ]
  },
  {
   "cell_type": "code",
   "execution_count": 17,
   "metadata": {
    "colab": {
     "base_uri": "https://localhost:8080/"
    },
    "executionInfo": {
     "elapsed": 498752,
     "status": "ok",
     "timestamp": 1655543100493,
     "user": {
      "displayName": "大池樹",
      "userId": "13911521047325534107"
     },
     "user_tz": -540
    },
    "id": "-tickzYp1DU2",
    "outputId": "6c00add1-46f9-4dcf-c183-e21f49e598a2"
   },
   "outputs": [
    {
     "name": "stdout",
     "output_type": "stream",
     "text": [
      "Epoch:1/10, Loss_D: 0.252, Loss_G: 2.706, D(x): 0.855, D(G(z)): 0.076/0.086\n",
      "Epoch:2/10, Loss_D: 1.133, Loss_G: 1.030, D(x): 0.463, D(G(z)): 0.226/0.404\n",
      "Epoch:3/10, Loss_D: 0.497, Loss_G: 1.668, D(x): 0.847, D(G(z)): 0.272/0.201\n",
      "Epoch:4/10, Loss_D: 1.133, Loss_G: 1.197, D(x): 0.582, D(G(z)): 0.417/0.320\n",
      "Epoch:5/10, Loss_D: 1.005, Loss_G: 1.193, D(x): 0.764, D(G(z)): 0.503/0.315\n",
      "Epoch:6/10, Loss_D: 1.253, Loss_G: 0.910, D(x): 0.648, D(G(z)): 0.537/0.417\n",
      "Epoch:7/10, Loss_D: 1.633, Loss_G: 0.672, D(x): 0.425, D(G(z)): 0.517/0.520\n",
      "Epoch:8/10, Loss_D: 1.310, Loss_G: 0.933, D(x): 0.639, D(G(z)): 0.562/0.404\n",
      "Epoch:9/10, Loss_D: 1.338, Loss_G: 0.865, D(x): 0.738, D(G(z)): 0.630/0.430\n",
      "Epoch:10/10, Loss_D: 1.244, Loss_G: 1.137, D(x): 0.522, D(G(z)): 0.433/0.332\n"
     ]
    }
   ],
   "source": [
    "G_losses = []\n",
    "D_losses = []\n",
    "D_x_list = []\n",
    "D_G_z1_list = []\n",
    "D_G_z2_list = []\n",
    "\n",
    "# 学習のループ\n",
    "for epoch in range(n_epoch):\n",
    "\n",
    "    for x, t in dataloader:\n",
    "\n",
    "      # 前準備\n",
    "      real_image = x.to(device) # 本物の画像データ\n",
    "      noise = torch.randn(batch_size, n_channel, 1, 1, device=device)\n",
    "      real_target = torch.full((batch_size,), 1., device=device) # 本物ラベル\n",
    "      fake_target = torch.full((batch_size,), 0., device=device) # 偽物ラベル\n",
    "      \n",
    "      # discriminatorの学習(本物画像の学習)\n",
    "      ############################################################\n",
    "      real_label = t.to(device) # 本物の画像データ\n",
    "      real_image_label = concat_image_label(real_image, real_label, device) \n",
    "      ############################################################\n",
    "      discriminator.zero_grad() \n",
    "      y = discriminator(real_image_label)\n",
    "      errD_real = criterion(y, real_target)\n",
    "      D_x = y.mean().item()\n",
    "\n",
    "      # discriminatorの学習(偽物画像の学習)\n",
    "      ############################################################\n",
    "      fake_label = torch.randint(10, (batch_size,), dtype=torch.long, device=device)\n",
    "      fake_noise_label = concat_noise_label(noise, fake_label, device)\n",
    "      fake_image = generator(fake_noise_label)\n",
    "      fake_image_label = concat_image_label(fake_image, fake_label, device)   \n",
    "      ############################################################\n",
    "      y = discriminator(fake_image_label.detach())\n",
    "      errD_fake = criterion(y, fake_target)\n",
    "      D_G_z1 = y.mean().item()\n",
    "\n",
    "      # discriminatorの更新\n",
    "      errD = errD_real + errD_fake\n",
    "      errD.backward()\n",
    "      optimizerD.step()\n",
    "\n",
    "      # generatorの学習\n",
    "      generator.zero_grad()\n",
    "      y = discriminator(fake_image_label)\n",
    "      errG = criterion(y, real_target)\n",
    "      errG.backward()\n",
    "      D_G_z2 = y.mean().item()\n",
    "      optimizerG.step()\n",
    "\n",
    "      # 損失関数のリスト作成\n",
    "      D_losses.append(errD.item())\n",
    "      G_losses.append(errG.item())\n",
    "      D_x_list.append(D_x)\n",
    "      D_G_z1_list.append(D_G_z1)\n",
    "      D_G_z1_list.append(D_G_z2)\n",
    "      \n",
    "    print('Epoch:{}/{}, Loss_D: {:.3f}, Loss_G: {:.3f}, D(x): {:.3f}, D(G(z)): {:.3f}/{:.3f}'\n",
    "    .format(epoch + 1, n_epoch, errD.item(), errG.item(), D_x, D_G_z1, D_G_z2))"
   ]
  },
  {
   "cell_type": "code",
   "execution_count": 18,
   "metadata": {
    "executionInfo": {
     "elapsed": 982,
     "status": "ok",
     "timestamp": 1655543101467,
     "user": {
      "displayName": "大池樹",
      "userId": "13911521047325534107"
     },
     "user_tz": -540
    },
    "id": "E5PIfvS-T1Ru"
   },
   "outputs": [],
   "source": [
    "torch.save(generator.state_dict(), './result/generator.pth')"
   ]
  },
  {
   "cell_type": "markdown",
   "metadata": {
    "id": "jJQZxM8S1cL9"
   },
   "source": [
    "# 5 画像の生成"
   ]
  },
  {
   "cell_type": "code",
   "execution_count": 20,
   "metadata": {
    "colab": {
     "base_uri": "https://localhost:8080/",
     "height": 418
    },
    "executionInfo": {
     "elapsed": 1839,
     "status": "ok",
     "timestamp": 1655543606105,
     "user": {
      "displayName": "大池樹",
      "userId": "13911521047325534107"
     },
     "user_tz": -540
    },
    "id": "MtUEg3vyBqti",
    "outputId": "705afaae-893f-4d4b-eb60-7fbd5043b11a"
   },
   "outputs": [
    {
     "name": "stderr",
     "output_type": "stream",
     "text": [
      "/usr/local/lib/python3.7/dist-packages/ipykernel_launcher.py:7: UserWarning: To copy construct from a tensor, it is recommended to use sourceTensor.clone().detach() or sourceTensor.clone().detach().requires_grad_(True), rather than torch.tensor(sourceTensor).\n",
      "  import sys\n"
     ]
    },
    {
     "data": {
      "image/png": "[encoded data removed]",
      "text/plain": [
       "<Figure size 1440x1044 with 30 Axes>"
      ]
     },
     "metadata": {},
     "output_type": "display_data"
    }
   ],
   "source": [
    "number = 4\n",
    "n = 30\n",
    "label_list = [number]*n\n",
    "\n",
    "sample_noise = torch.randn(n, n_channel, 1, 1, device=device) \n",
    "sample_label = torch.tensor(label_list, dtype=torch.long, device=device)\n",
    "sample_label = torch.tensor(sample_label, dtype=torch.long, device=device)\n",
    "sample_noise_label = concat_noise_label(sample_noise, sample_label, device) \n",
    "generator.eval\n",
    "y = generator(sample_noise_label)\n",
    "\n",
    "# データの可視化\n",
    "fig = plt.figure(figsize=(20, 8.5+2.*np.ceil(n/10)))\n",
    "plt.subplots_adjust(wspace=0.1, hspace=-0.8)\n",
    "for i in range(n):\n",
    "  if n < 10:\n",
    "    ax = fig.add_subplot(1, n, i+1, xticks=[], yticks=[])\n",
    "  else:\n",
    "    ax = fig.add_subplot(np.ceil(n/10), 10, i+1, xticks=[], yticks=[])\n",
    "  ax.imshow(y[i,].view(28,28).cpu().detach(), \"gray\")\n",
    "plt.savefig(\"./result/generate_sample.png\")"
   ]
  },
  {
   "cell_type": "code",
   "execution_count": null,
   "metadata": {
    "id": "D9pa8h4dFnTr"
   },
   "outputs": [],
   "source": []
  }
 ],
 "metadata": {
  "accelerator": "GPU",
  "colab": {
   "authorship_tag": "ABX9TyNJMClBPtFpu7Ya904DIDMg",
   "collapsed_sections": [],
   "name": "CGANモデル保存.ipynb",
   "provenance": []
  },
  "gpuClass": "standard",
  "kernelspec": {
   "display_name": "Python 3 (ipykernel)",
   "language": "python",
   "name": "python3"
  },
  "language_info": {
   "codemirror_mode": {
    "name": "ipython",
    "version": 3
   },
   "file_extension": ".py",
   "mimetype": "text/x-python",
   "name": "python",
   "nbconvert_exporter": "python",
   "pygments_lexer": "ipython3",
   "version": "3.9.12"
  },
  "widgets": {
   "application/vnd.jupyter.widget-state+json": {
    "01a6f82fb50b419db8838ab26dc13c13": {
     "model_module": "@jupyter-widgets/controls",
     "model_module_version": "1.5.0",
     "model_name": "DescriptionStyleModel",
     "state": {
      "_model_module": "@jupyter-widgets/controls",
      "_model_module_version": "1.5.0",
      "_model_name": "DescriptionStyleModel",
      "_view_count": null,
      "_view_module": "@jupyter-widgets/base",
      "_view_module_version": "1.2.0",
      "_view_name": "StyleView",
      "description_width": ""
     }
    },
    "05bc8accd7d241d692634d5e8087b4cb": {
     "model_module": "@jupyter-widgets/base",
     "model_module_version": "1.2.0",
     "model_name": "LayoutModel",
     "state": {
      "_model_module": "@jupyter-widgets/base",
      "_model_module_version": "1.2.0",
      "_model_name": "LayoutModel",
      "_view_count": null,
      "_view_module": "@jupyter-widgets/base",
      "_view_module_version": "1.2.0",
      "_view_name": "LayoutView",
      "align_content": null,
      "align_items": null,
      "align_self": null,
      "border": null,
      "bottom": null,
      "display": null,
      "flex": null,
      "flex_flow": null,
      "grid_area": null,
      "grid_auto_columns": null,
      "grid_auto_flow": null,
      "grid_auto_rows": null,
      "grid_column": null,
      "grid_gap": null,
      "grid_row": null,
      "grid_template_areas": null,
      "grid_template_columns": null,
      "grid_template_rows": null,
      "height": null,
      "justify_content": null,
      "justify_items": null,
      "left": null,
      "margin": null,
      "max_height": null,
      "max_width": null,
      "min_height": null,
      "min_width": null,
      "object_fit": null,
      "object_position": null,
      "order": null,
      "overflow": null,
      "overflow_x": null,
      "overflow_y": null,
      "padding": null,
      "right": null,
      "top": null,
      "visibility": null,
      "width": null
     }
    },
    "0928d28359e2459781081dc134d0ef8b": {
     "model_module": "@jupyter-widgets/controls",
     "model_module_version": "1.5.0",
     "model_name": "ProgressStyleModel",
     "state": {
      "_model_module": "@jupyter-widgets/controls",
      "_model_module_version": "1.5.0",
      "_model_name": "ProgressStyleModel",
      "_view_count": null,
      "_view_module": "@jupyter-widgets/base",
      "_view_module_version": "1.2.0",
      "_view_name": "StyleView",
      "bar_color": null,
      "description_width": ""
     }
    },
    "0cf42ae68c23436e9686f8006a80cf9c": {
     "model_module": "@jupyter-widgets/controls",
     "model_module_version": "1.5.0",
     "model_name": "DescriptionStyleModel",
     "state": {
      "_model_module": "@jupyter-widgets/controls",
      "_model_module_version": "1.5.0",
      "_model_name": "DescriptionStyleModel",
      "_view_count": null,
      "_view_module": "@jupyter-widgets/base",
      "_view_module_version": "1.2.0",
      "_view_name": "StyleView",
      "description_width": ""
     }
    },
    "1a0c3e7c8f2841d69a23f6fc817f9265": {
     "model_module": "@jupyter-widgets/controls",
     "model_module_version": "1.5.0",
     "model_name": "FloatProgressModel",
     "state": {
      "_dom_classes": [],
      "_model_module": "@jupyter-widgets/controls",
      "_model_module_version": "1.5.0",
      "_model_name": "FloatProgressModel",
      "_view_count": null,
      "_view_module": "@jupyter-widgets/controls",
      "_view_module_version": "1.5.0",
      "_view_name": "ProgressView",
      "bar_style": "success",
      "description": "",
      "description_tooltip": null,
      "layout": "IPY_MODEL_4807c567ac8f468f853e36d66849910f",
      "max": 4542,
      "min": 0,
      "orientation": "horizontal",
      "style": "IPY_MODEL_a74b315bcb3a41029973c597a2513485",
      "value": 4542
     }
    },
    "2a35b7bb007e4818970ba5f3157c3dc6": {
     "model_module": "@jupyter-widgets/controls",
     "model_module_version": "1.5.0",
     "model_name": "FloatProgressModel",
     "state": {
      "_dom_classes": [],
      "_model_module": "@jupyter-widgets/controls",
      "_model_module_version": "1.5.0",
      "_model_name": "FloatProgressModel",
      "_view_count": null,
      "_view_module": "@jupyter-widgets/controls",
      "_view_module_version": "1.5.0",
      "_view_name": "ProgressView",
      "bar_style": "success",
      "description": "",
      "description_tooltip": null,
      "layout": "IPY_MODEL_ecba3590f2e7487d94d498f8cb56cc9e",
      "max": 9912422,
      "min": 0,
      "orientation": "horizontal",
      "style": "IPY_MODEL_fe07c42961324c17aba78f6108087e65",
      "value": 9912422
     }
    },
    "2b82125dce114fb68c0fe81cb1aad972": {
     "model_module": "@jupyter-widgets/base",
     "model_module_version": "1.2.0",
     "model_name": "LayoutModel",
     "state": {
      "_model_module": "@jupyter-widgets/base",
      "_model_module_version": "1.2.0",
      "_model_name": "LayoutModel",
      "_view_count": null,
      "_view_module": "@jupyter-widgets/base",
      "_view_module_version": "1.2.0",
      "_view_name": "LayoutView",
      "align_content": null,
      "align_items": null,
      "align_self": null,
      "border": null,
      "bottom": null,
      "display": null,
      "flex": null,
      "flex_flow": null,
      "grid_area": null,
      "grid_auto_columns": null,
      "grid_auto_flow": null,
      "grid_auto_rows": null,
      "grid_column": null,
      "grid_gap": null,
      "grid_row": null,
      "grid_template_areas": null,
      "grid_template_columns": null,
      "grid_template_rows": null,
      "height": null,
      "justify_content": null,
      "justify_items": null,
      "left": null,
      "margin": null,
      "max_height": null,
      "max_width": null,
      "min_height": null,
      "min_width": null,
      "object_fit": null,
      "object_position": null,
      "order": null,
      "overflow": null,
      "overflow_x": null,
      "overflow_y": null,
      "padding": null,
      "right": null,
      "top": null,
      "visibility": null,
      "width": null
     }
    },
    "31f696eeb227485dbacd9a0a8b605905": {
     "model_module": "@jupyter-widgets/controls",
     "model_module_version": "1.5.0",
     "model_name": "HTMLModel",
     "state": {
      "_dom_classes": [],
      "_model_module": "@jupyter-widgets/controls",
      "_model_module_version": "1.5.0",
      "_model_name": "HTMLModel",
      "_view_count": null,
      "_view_module": "@jupyter-widgets/controls",
      "_view_module_version": "1.5.0",
      "_view_name": "HTMLView",
      "description": "",
      "description_tooltip": null,
      "layout": "IPY_MODEL_4f972da23d1849bf9e0c69bd6c97a169",
      "placeholder": "​",
      "style": "IPY_MODEL_60006b37160d41d690f6e10ffe8c1626",
      "value": " 29696/? [00:00&lt;00:00, 860595.95it/s]"
     }
    },
    "44ac9adf498542ebb85845f0d59b0efa": {
     "model_module": "@jupyter-widgets/base",
     "model_module_version": "1.2.0",
     "model_name": "LayoutModel",
     "state": {
      "_model_module": "@jupyter-widgets/base",
      "_model_module_version": "1.2.0",
      "_model_name": "LayoutModel",
      "_view_count": null,
      "_view_module": "@jupyter-widgets/base",
      "_view_module_version": "1.2.0",
      "_view_name": "LayoutView",
      "align_content": null,
      "align_items": null,
      "align_self": null,
      "border": null,
      "bottom": null,
      "display": null,
      "flex": null,
      "flex_flow": null,
      "grid_area": null,
      "grid_auto_columns": null,
      "grid_auto_flow": null,
      "grid_auto_rows": null,
      "grid_column": null,
      "grid_gap": null,
      "grid_row": null,
      "grid_template_areas": null,
      "grid_template_columns": null,
      "grid_template_rows": null,
      "height": null,
      "justify_content": null,
      "justify_items": null,
      "left": null,
      "margin": null,
      "max_height": null,
      "max_width": null,
      "min_height": null,
      "min_width": null,
      "object_fit": null,
      "object_position": null,
      "order": null,
      "overflow": null,
      "overflow_x": null,
      "overflow_y": null,
      "padding": null,
      "right": null,
      "top": null,
      "visibility": null,
      "width": null
     }
    },
    "4807c567ac8f468f853e36d66849910f": {
     "model_module": "@jupyter-widgets/base",
     "model_module_version": "1.2.0",
     "model_name": "LayoutModel",
     "state": {
      "_model_module": "@jupyter-widgets/base",
      "_model_module_version": "1.2.0",
      "_model_name": "LayoutModel",
      "_view_count": null,
      "_view_module": "@jupyter-widgets/base",
      "_view_module_version": "1.2.0",
      "_view_name": "LayoutView",
      "align_content": null,
      "align_items": null,
      "align_self": null,
      "border": null,
      "bottom": null,
      "display": null,
      "flex": null,
      "flex_flow": null,
      "grid_area": null,
      "grid_auto_columns": null,
      "grid_auto_flow": null,
      "grid_auto_rows": null,
      "grid_column": null,
      "grid_gap": null,
      "grid_row": null,
      "grid_template_areas": null,
      "grid_template_columns": null,
      "grid_template_rows": null,
      "height": null,
      "justify_content": null,
      "justify_items": null,
      "left": null,
      "margin": null,
      "max_height": null,
      "max_width": null,
      "min_height": null,
      "min_width": null,
      "object_fit": null,
      "object_position": null,
      "order": null,
      "overflow": null,
      "overflow_x": null,
      "overflow_y": null,
      "padding": null,
      "right": null,
      "top": null,
      "visibility": null,
      "width": null
     }
    },
    "4ea5273da11146d589d97b7164f2a6dc": {
     "model_module": "@jupyter-widgets/controls",
     "model_module_version": "1.5.0",
     "model_name": "DescriptionStyleModel",
     "state": {
      "_model_module": "@jupyter-widgets/controls",
      "_model_module_version": "1.5.0",
      "_model_name": "DescriptionStyleModel",
      "_view_count": null,
      "_view_module": "@jupyter-widgets/base",
      "_view_module_version": "1.2.0",
      "_view_name": "StyleView",
      "description_width": ""
     }
    },
    "4f972da23d1849bf9e0c69bd6c97a169": {
     "model_module": "@jupyter-widgets/base",
     "model_module_version": "1.2.0",
     "model_name": "LayoutModel",
     "state": {
      "_model_module": "@jupyter-widgets/base",
      "_model_module_version": "1.2.0",
      "_model_name": "LayoutModel",
      "_view_count": null,
      "_view_module": "@jupyter-widgets/base",
      "_view_module_version": "1.2.0",
      "_view_name": "LayoutView",
      "align_content": null,
      "align_items": null,
      "align_self": null,
      "border": null,
      "bottom": null,
      "display": null,
      "flex": null,
      "flex_flow": null,
      "grid_area": null,
      "grid_auto_columns": null,
      "grid_auto_flow": null,
      "grid_auto_rows": null,
      "grid_column": null,
      "grid_gap": null,
      "grid_row": null,
      "grid_template_areas": null,
      "grid_template_columns": null,
      "grid_template_rows": null,
      "height": null,
      "justify_content": null,
      "justify_items": null,
      "left": null,
      "margin": null,
      "max_height": null,
      "max_width": null,
      "min_height": null,
      "min_width": null,
      "object_fit": null,
      "object_position": null,
      "order": null,
      "overflow": null,
      "overflow_x": null,
      "overflow_y": null,
      "padding": null,
      "right": null,
      "top": null,
      "visibility": null,
      "width": null
     }
    },
    "57133079d0744627b16a98b3c39fdf45": {
     "model_module": "@jupyter-widgets/base",
     "model_module_version": "1.2.0",
     "model_name": "LayoutModel",
     "state": {
      "_model_module": "@jupyter-widgets/base",
      "_model_module_version": "1.2.0",
      "_model_name": "LayoutModel",
      "_view_count": null,
      "_view_module": "@jupyter-widgets/base",
      "_view_module_version": "1.2.0",
      "_view_name": "LayoutView",
      "align_content": null,
      "align_items": null,
      "align_self": null,
      "border": null,
      "bottom": null,
      "display": null,
      "flex": null,
      "flex_flow": null,
      "grid_area": null,
      "grid_auto_columns": null,
      "grid_auto_flow": null,
      "grid_auto_rows": null,
      "grid_column": null,
      "grid_gap": null,
      "grid_row": null,
      "grid_template_areas": null,
      "grid_template_columns": null,
      "grid_template_rows": null,
      "height": null,
      "justify_content": null,
      "justify_items": null,
      "left": null,
      "margin": null,
      "max_height": null,
      "max_width": null,
      "min_height": null,
      "min_width": null,
      "object_fit": null,
      "object_position": null,
      "order": null,
      "overflow": null,
      "overflow_x": null,
      "overflow_y": null,
      "padding": null,
      "right": null,
      "top": null,
      "visibility": null,
      "width": null
     }
    },
    "60006b37160d41d690f6e10ffe8c1626": {
     "model_module": "@jupyter-widgets/controls",
     "model_module_version": "1.5.0",
     "model_name": "DescriptionStyleModel",
     "state": {
      "_model_module": "@jupyter-widgets/controls",
      "_model_module_version": "1.5.0",
      "_model_name": "DescriptionStyleModel",
      "_view_count": null,
      "_view_module": "@jupyter-widgets/base",
      "_view_module_version": "1.2.0",
      "_view_name": "StyleView",
      "description_width": ""
     }
    },
    "66ebbb27c6864cd8bde9ac7e66fd74bc": {
     "model_module": "@jupyter-widgets/base",
     "model_module_version": "1.2.0",
     "model_name": "LayoutModel",
     "state": {
      "_model_module": "@jupyter-widgets/base",
      "_model_module_version": "1.2.0",
      "_model_name": "LayoutModel",
      "_view_count": null,
      "_view_module": "@jupyter-widgets/base",
      "_view_module_version": "1.2.0",
      "_view_name": "LayoutView",
      "align_content": null,
      "align_items": null,
      "align_self": null,
      "border": null,
      "bottom": null,
      "display": null,
      "flex": null,
      "flex_flow": null,
      "grid_area": null,
      "grid_auto_columns": null,
      "grid_auto_flow": null,
      "grid_auto_rows": null,
      "grid_column": null,
      "grid_gap": null,
      "grid_row": null,
      "grid_template_areas": null,
      "grid_template_columns": null,
      "grid_template_rows": null,
      "height": null,
      "justify_content": null,
      "justify_items": null,
      "left": null,
      "margin": null,
      "max_height": null,
      "max_width": null,
      "min_height": null,
      "min_width": null,
      "object_fit": null,
      "object_position": null,
      "order": null,
      "overflow": null,
      "overflow_x": null,
      "overflow_y": null,
      "padding": null,
      "right": null,
      "top": null,
      "visibility": null,
      "width": null
     }
    },
    "68c59d2eace34e9cbd14c17cce021b4e": {
     "model_module": "@jupyter-widgets/base",
     "model_module_version": "1.2.0",
     "model_name": "LayoutModel",
     "state": {
      "_model_module": "@jupyter-widgets/base",
      "_model_module_version": "1.2.0",
      "_model_name": "LayoutModel",
      "_view_count": null,
      "_view_module": "@jupyter-widgets/base",
      "_view_module_version": "1.2.0",
      "_view_name": "LayoutView",
      "align_content": null,
      "align_items": null,
      "align_self": null,
      "border": null,
      "bottom": null,
      "display": null,
      "flex": null,
      "flex_flow": null,
      "grid_area": null,
      "grid_auto_columns": null,
      "grid_auto_flow": null,
      "grid_auto_rows": null,
      "grid_column": null,
      "grid_gap": null,
      "grid_row": null,
      "grid_template_areas": null,
      "grid_template_columns": null,
      "grid_template_rows": null,
      "height": null,
      "justify_content": null,
      "justify_items": null,
      "left": null,
      "margin": null,
      "max_height": null,
      "max_width": null,
      "min_height": null,
      "min_width": null,
      "object_fit": null,
      "object_position": null,
      "order": null,
      "overflow": null,
      "overflow_x": null,
      "overflow_y": null,
      "padding": null,
      "right": null,
      "top": null,
      "visibility": null,
      "width": null
     }
    },
    "76ac93660aee4c38aeef513027eb4b5e": {
     "model_module": "@jupyter-widgets/controls",
     "model_module_version": "1.5.0",
     "model_name": "FloatProgressModel",
     "state": {
      "_dom_classes": [],
      "_model_module": "@jupyter-widgets/controls",
      "_model_module_version": "1.5.0",
      "_model_name": "FloatProgressModel",
      "_view_count": null,
      "_view_module": "@jupyter-widgets/controls",
      "_view_module_version": "1.5.0",
      "_view_name": "ProgressView",
      "bar_style": "success",
      "description": "",
      "description_tooltip": null,
      "layout": "IPY_MODEL_44ac9adf498542ebb85845f0d59b0efa",
      "max": 28881,
      "min": 0,
      "orientation": "horizontal",
      "style": "IPY_MODEL_0928d28359e2459781081dc134d0ef8b",
      "value": 28881
     }
    },
    "771254bbe56e4a63aa827d23b5a4c694": {
     "model_module": "@jupyter-widgets/base",
     "model_module_version": "1.2.0",
     "model_name": "LayoutModel",
     "state": {
      "_model_module": "@jupyter-widgets/base",
      "_model_module_version": "1.2.0",
      "_model_name": "LayoutModel",
      "_view_count": null,
      "_view_module": "@jupyter-widgets/base",
      "_view_module_version": "1.2.0",
      "_view_name": "LayoutView",
      "align_content": null,
      "align_items": null,
      "align_self": null,
      "border": null,
      "bottom": null,
      "display": null,
      "flex": null,
      "flex_flow": null,
      "grid_area": null,
      "grid_auto_columns": null,
      "grid_auto_flow": null,
      "grid_auto_rows": null,
      "grid_column": null,
      "grid_gap": null,
      "grid_row": null,
      "grid_template_areas": null,
      "grid_template_columns": null,
      "grid_template_rows": null,
      "height": null,
      "justify_content": null,
      "justify_items": null,
      "left": null,
      "margin": null,
      "max_height": null,
      "max_width": null,
      "min_height": null,
      "min_width": null,
      "object_fit": null,
      "object_position": null,
      "order": null,
      "overflow": null,
      "overflow_x": null,
      "overflow_y": null,
      "padding": null,
      "right": null,
      "top": null,
      "visibility": null,
      "width": null
     }
    },
    "8581091a903f42a4954891122c0b3244": {
     "model_module": "@jupyter-widgets/controls",
     "model_module_version": "1.5.0",
     "model_name": "DescriptionStyleModel",
     "state": {
      "_model_module": "@jupyter-widgets/controls",
      "_model_module_version": "1.5.0",
      "_model_name": "DescriptionStyleModel",
      "_view_count": null,
      "_view_module": "@jupyter-widgets/base",
      "_view_module_version": "1.2.0",
      "_view_name": "StyleView",
      "description_width": ""
     }
    },
    "8afbc24dddca4b1db79259e44f8e5f8f": {
     "model_module": "@jupyter-widgets/controls",
     "model_module_version": "1.5.0",
     "model_name": "HTMLModel",
     "state": {
      "_dom_classes": [],
      "_model_module": "@jupyter-widgets/controls",
      "_model_module_version": "1.5.0",
      "_model_name": "HTMLModel",
      "_view_count": null,
      "_view_module": "@jupyter-widgets/controls",
      "_view_module_version": "1.5.0",
      "_view_name": "HTMLView",
      "description": "",
      "description_tooltip": null,
      "layout": "IPY_MODEL_b35d9ffee34844f793185cf39332d32b",
      "placeholder": "​",
      "style": "IPY_MODEL_ec960a0723b24a2eae670f5ca1853f75",
      "value": ""
     }
    },
    "965914be98fe433ebc984a870e81ffb4": {
     "model_module": "@jupyter-widgets/controls",
     "model_module_version": "1.5.0",
     "model_name": "HBoxModel",
     "state": {
      "_dom_classes": [],
      "_model_module": "@jupyter-widgets/controls",
      "_model_module_version": "1.5.0",
      "_model_name": "HBoxModel",
      "_view_count": null,
      "_view_module": "@jupyter-widgets/controls",
      "_view_module_version": "1.5.0",
      "_view_name": "HBoxView",
      "box_style": "",
      "children": [
       "IPY_MODEL_a9129e14faa247ab893895cc8ce9010c",
       "IPY_MODEL_76ac93660aee4c38aeef513027eb4b5e",
       "IPY_MODEL_31f696eeb227485dbacd9a0a8b605905"
      ],
      "layout": "IPY_MODEL_771254bbe56e4a63aa827d23b5a4c694"
     }
    },
    "975341cf13b44446ac902aa59114b1c6": {
     "model_module": "@jupyter-widgets/base",
     "model_module_version": "1.2.0",
     "model_name": "LayoutModel",
     "state": {
      "_model_module": "@jupyter-widgets/base",
      "_model_module_version": "1.2.0",
      "_model_name": "LayoutModel",
      "_view_count": null,
      "_view_module": "@jupyter-widgets/base",
      "_view_module_version": "1.2.0",
      "_view_name": "LayoutView",
      "align_content": null,
      "align_items": null,
      "align_self": null,
      "border": null,
      "bottom": null,
      "display": null,
      "flex": null,
      "flex_flow": null,
      "grid_area": null,
      "grid_auto_columns": null,
      "grid_auto_flow": null,
      "grid_auto_rows": null,
      "grid_column": null,
      "grid_gap": null,
      "grid_row": null,
      "grid_template_areas": null,
      "grid_template_columns": null,
      "grid_template_rows": null,
      "height": null,
      "justify_content": null,
      "justify_items": null,
      "left": null,
      "margin": null,
      "max_height": null,
      "max_width": null,
      "min_height": null,
      "min_width": null,
      "object_fit": null,
      "object_position": null,
      "order": null,
      "overflow": null,
      "overflow_x": null,
      "overflow_y": null,
      "padding": null,
      "right": null,
      "top": null,
      "visibility": null,
      "width": null
     }
    },
    "9dcc5c5c197d41d38f5f3e80af6c4919": {
     "model_module": "@jupyter-widgets/controls",
     "model_module_version": "1.5.0",
     "model_name": "FloatProgressModel",
     "state": {
      "_dom_classes": [],
      "_model_module": "@jupyter-widgets/controls",
      "_model_module_version": "1.5.0",
      "_model_name": "FloatProgressModel",
      "_view_count": null,
      "_view_module": "@jupyter-widgets/controls",
      "_view_module_version": "1.5.0",
      "_view_name": "ProgressView",
      "bar_style": "success",
      "description": "",
      "description_tooltip": null,
      "layout": "IPY_MODEL_68c59d2eace34e9cbd14c17cce021b4e",
      "max": 1648877,
      "min": 0,
      "orientation": "horizontal",
      "style": "IPY_MODEL_b30d6f8614394ceda95bf8562a3badc4",
      "value": 1648877
     }
    },
    "a6f52da00bf4485f95fe3ac72f46c741": {
     "model_module": "@jupyter-widgets/base",
     "model_module_version": "1.2.0",
     "model_name": "LayoutModel",
     "state": {
      "_model_module": "@jupyter-widgets/base",
      "_model_module_version": "1.2.0",
      "_model_name": "LayoutModel",
      "_view_count": null,
      "_view_module": "@jupyter-widgets/base",
      "_view_module_version": "1.2.0",
      "_view_name": "LayoutView",
      "align_content": null,
      "align_items": null,
      "align_self": null,
      "border": null,
      "bottom": null,
      "display": null,
      "flex": null,
      "flex_flow": null,
      "grid_area": null,
      "grid_auto_columns": null,
      "grid_auto_flow": null,
      "grid_auto_rows": null,
      "grid_column": null,
      "grid_gap": null,
      "grid_row": null,
      "grid_template_areas": null,
      "grid_template_columns": null,
      "grid_template_rows": null,
      "height": null,
      "justify_content": null,
      "justify_items": null,
      "left": null,
      "margin": null,
      "max_height": null,
      "max_width": null,
      "min_height": null,
      "min_width": null,
      "object_fit": null,
      "object_position": null,
      "order": null,
      "overflow": null,
      "overflow_x": null,
      "overflow_y": null,
      "padding": null,
      "right": null,
      "top": null,
      "visibility": null,
      "width": null
     }
    },
    "a74b315bcb3a41029973c597a2513485": {
     "model_module": "@jupyter-widgets/controls",
     "model_module_version": "1.5.0",
     "model_name": "ProgressStyleModel",
     "state": {
      "_model_module": "@jupyter-widgets/controls",
      "_model_module_version": "1.5.0",
      "_model_name": "ProgressStyleModel",
      "_view_count": null,
      "_view_module": "@jupyter-widgets/base",
      "_view_module_version": "1.2.0",
      "_view_name": "StyleView",
      "bar_color": null,
      "description_width": ""
     }
    },
    "a8c798a700d74216a8455b5a0b85c16a": {
     "model_module": "@jupyter-widgets/controls",
     "model_module_version": "1.5.0",
     "model_name": "HBoxModel",
     "state": {
      "_dom_classes": [],
      "_model_module": "@jupyter-widgets/controls",
      "_model_module_version": "1.5.0",
      "_model_name": "HBoxModel",
      "_view_count": null,
      "_view_module": "@jupyter-widgets/controls",
      "_view_module_version": "1.5.0",
      "_view_name": "HBoxView",
      "box_style": "",
      "children": [
       "IPY_MODEL_fb0bce70a33143fcaf1c3e0544803db4",
       "IPY_MODEL_2a35b7bb007e4818970ba5f3157c3dc6",
       "IPY_MODEL_b3e2d62ef1dd43868797c152e92f79b2"
      ],
      "layout": "IPY_MODEL_975341cf13b44446ac902aa59114b1c6"
     }
    },
    "a9129e14faa247ab893895cc8ce9010c": {
     "model_module": "@jupyter-widgets/controls",
     "model_module_version": "1.5.0",
     "model_name": "HTMLModel",
     "state": {
      "_dom_classes": [],
      "_model_module": "@jupyter-widgets/controls",
      "_model_module_version": "1.5.0",
      "_model_name": "HTMLModel",
      "_view_count": null,
      "_view_module": "@jupyter-widgets/controls",
      "_view_module_version": "1.5.0",
      "_view_name": "HTMLView",
      "description": "",
      "description_tooltip": null,
      "layout": "IPY_MODEL_b83d1da103ae4f2d80cd94163639a88a",
      "placeholder": "​",
      "style": "IPY_MODEL_0cf42ae68c23436e9686f8006a80cf9c",
      "value": ""
     }
    },
    "b30d6f8614394ceda95bf8562a3badc4": {
     "model_module": "@jupyter-widgets/controls",
     "model_module_version": "1.5.0",
     "model_name": "ProgressStyleModel",
     "state": {
      "_model_module": "@jupyter-widgets/controls",
      "_model_module_version": "1.5.0",
      "_model_name": "ProgressStyleModel",
      "_view_count": null,
      "_view_module": "@jupyter-widgets/base",
      "_view_module_version": "1.2.0",
      "_view_name": "StyleView",
      "bar_color": null,
      "description_width": ""
     }
    },
    "b35d9ffee34844f793185cf39332d32b": {
     "model_module": "@jupyter-widgets/base",
     "model_module_version": "1.2.0",
     "model_name": "LayoutModel",
     "state": {
      "_model_module": "@jupyter-widgets/base",
      "_model_module_version": "1.2.0",
      "_model_name": "LayoutModel",
      "_view_count": null,
      "_view_module": "@jupyter-widgets/base",
      "_view_module_version": "1.2.0",
      "_view_name": "LayoutView",
      "align_content": null,
      "align_items": null,
      "align_self": null,
      "border": null,
      "bottom": null,
      "display": null,
      "flex": null,
      "flex_flow": null,
      "grid_area": null,
      "grid_auto_columns": null,
      "grid_auto_flow": null,
      "grid_auto_rows": null,
      "grid_column": null,
      "grid_gap": null,
      "grid_row": null,
      "grid_template_areas": null,
      "grid_template_columns": null,
      "grid_template_rows": null,
      "height": null,
      "justify_content": null,
      "justify_items": null,
      "left": null,
      "margin": null,
      "max_height": null,
      "max_width": null,
      "min_height": null,
      "min_width": null,
      "object_fit": null,
      "object_position": null,
      "order": null,
      "overflow": null,
      "overflow_x": null,
      "overflow_y": null,
      "padding": null,
      "right": null,
      "top": null,
      "visibility": null,
      "width": null
     }
    },
    "b3e2d62ef1dd43868797c152e92f79b2": {
     "model_module": "@jupyter-widgets/controls",
     "model_module_version": "1.5.0",
     "model_name": "HTMLModel",
     "state": {
      "_dom_classes": [],
      "_model_module": "@jupyter-widgets/controls",
      "_model_module_version": "1.5.0",
      "_model_name": "HTMLModel",
      "_view_count": null,
      "_view_module": "@jupyter-widgets/controls",
      "_view_module_version": "1.5.0",
      "_view_name": "HTMLView",
      "description": "",
      "description_tooltip": null,
      "layout": "IPY_MODEL_fac90bd1d6e04008b2ae9f4281934e7c",
      "placeholder": "​",
      "style": "IPY_MODEL_f73cc6556ca44df8bd58f6704d0a05cd",
      "value": " 9913344/? [00:00&lt;00:00, 46468499.58it/s]"
     }
    },
    "b83d1da103ae4f2d80cd94163639a88a": {
     "model_module": "@jupyter-widgets/base",
     "model_module_version": "1.2.0",
     "model_name": "LayoutModel",
     "state": {
      "_model_module": "@jupyter-widgets/base",
      "_model_module_version": "1.2.0",
      "_model_name": "LayoutModel",
      "_view_count": null,
      "_view_module": "@jupyter-widgets/base",
      "_view_module_version": "1.2.0",
      "_view_name": "LayoutView",
      "align_content": null,
      "align_items": null,
      "align_self": null,
      "border": null,
      "bottom": null,
      "display": null,
      "flex": null,
      "flex_flow": null,
      "grid_area": null,
      "grid_auto_columns": null,
      "grid_auto_flow": null,
      "grid_auto_rows": null,
      "grid_column": null,
      "grid_gap": null,
      "grid_row": null,
      "grid_template_areas": null,
      "grid_template_columns": null,
      "grid_template_rows": null,
      "height": null,
      "justify_content": null,
      "justify_items": null,
      "left": null,
      "margin": null,
      "max_height": null,
      "max_width": null,
      "min_height": null,
      "min_width": null,
      "object_fit": null,
      "object_position": null,
      "order": null,
      "overflow": null,
      "overflow_x": null,
      "overflow_y": null,
      "padding": null,
      "right": null,
      "top": null,
      "visibility": null,
      "width": null
     }
    },
    "db6b71a6a14646e9a4111d1bb0c3ecbe": {
     "model_module": "@jupyter-widgets/controls",
     "model_module_version": "1.5.0",
     "model_name": "HTMLModel",
     "state": {
      "_dom_classes": [],
      "_model_module": "@jupyter-widgets/controls",
      "_model_module_version": "1.5.0",
      "_model_name": "HTMLModel",
      "_view_count": null,
      "_view_module": "@jupyter-widgets/controls",
      "_view_module_version": "1.5.0",
      "_view_name": "HTMLView",
      "description": "",
      "description_tooltip": null,
      "layout": "IPY_MODEL_05bc8accd7d241d692634d5e8087b4cb",
      "placeholder": "​",
      "style": "IPY_MODEL_4ea5273da11146d589d97b7164f2a6dc",
      "value": " 5120/? [00:00&lt;00:00, 148051.27it/s]"
     }
    },
    "e27d3b9efabd44bca3399acf9ae69806": {
     "model_module": "@jupyter-widgets/controls",
     "model_module_version": "1.5.0",
     "model_name": "HBoxModel",
     "state": {
      "_dom_classes": [],
      "_model_module": "@jupyter-widgets/controls",
      "_model_module_version": "1.5.0",
      "_model_name": "HBoxModel",
      "_view_count": null,
      "_view_module": "@jupyter-widgets/controls",
      "_view_module_version": "1.5.0",
      "_view_name": "HBoxView",
      "box_style": "",
      "children": [
       "IPY_MODEL_8afbc24dddca4b1db79259e44f8e5f8f",
       "IPY_MODEL_9dcc5c5c197d41d38f5f3e80af6c4919",
       "IPY_MODEL_ed1925fbc7774506989ef2cabe4d8974"
      ],
      "layout": "IPY_MODEL_a6f52da00bf4485f95fe3ac72f46c741"
     }
    },
    "e38486bebbe840089bd7a4ce439a94df": {
     "model_module": "@jupyter-widgets/controls",
     "model_module_version": "1.5.0",
     "model_name": "HTMLModel",
     "state": {
      "_dom_classes": [],
      "_model_module": "@jupyter-widgets/controls",
      "_model_module_version": "1.5.0",
      "_model_name": "HTMLModel",
      "_view_count": null,
      "_view_module": "@jupyter-widgets/controls",
      "_view_module_version": "1.5.0",
      "_view_name": "HTMLView",
      "description": "",
      "description_tooltip": null,
      "layout": "IPY_MODEL_66ebbb27c6864cd8bde9ac7e66fd74bc",
      "placeholder": "​",
      "style": "IPY_MODEL_01a6f82fb50b419db8838ab26dc13c13",
      "value": ""
     }
    },
    "ec960a0723b24a2eae670f5ca1853f75": {
     "model_module": "@jupyter-widgets/controls",
     "model_module_version": "1.5.0",
     "model_name": "DescriptionStyleModel",
     "state": {
      "_model_module": "@jupyter-widgets/controls",
      "_model_module_version": "1.5.0",
      "_model_name": "DescriptionStyleModel",
      "_view_count": null,
      "_view_module": "@jupyter-widgets/base",
      "_view_module_version": "1.2.0",
      "_view_name": "StyleView",
      "description_width": ""
     }
    },
    "ecba3590f2e7487d94d498f8cb56cc9e": {
     "model_module": "@jupyter-widgets/base",
     "model_module_version": "1.2.0",
     "model_name": "LayoutModel",
     "state": {
      "_model_module": "@jupyter-widgets/base",
      "_model_module_version": "1.2.0",
      "_model_name": "LayoutModel",
      "_view_count": null,
      "_view_module": "@jupyter-widgets/base",
      "_view_module_version": "1.2.0",
      "_view_name": "LayoutView",
      "align_content": null,
      "align_items": null,
      "align_self": null,
      "border": null,
      "bottom": null,
      "display": null,
      "flex": null,
      "flex_flow": null,
      "grid_area": null,
      "grid_auto_columns": null,
      "grid_auto_flow": null,
      "grid_auto_rows": null,
      "grid_column": null,
      "grid_gap": null,
      "grid_row": null,
      "grid_template_areas": null,
      "grid_template_columns": null,
      "grid_template_rows": null,
      "height": null,
      "justify_content": null,
      "justify_items": null,
      "left": null,
      "margin": null,
      "max_height": null,
      "max_width": null,
      "min_height": null,
      "min_width": null,
      "object_fit": null,
      "object_position": null,
      "order": null,
      "overflow": null,
      "overflow_x": null,
      "overflow_y": null,
      "padding": null,
      "right": null,
      "top": null,
      "visibility": null,
      "width": null
     }
    },
    "ed1925fbc7774506989ef2cabe4d8974": {
     "model_module": "@jupyter-widgets/controls",
     "model_module_version": "1.5.0",
     "model_name": "HTMLModel",
     "state": {
      "_dom_classes": [],
      "_model_module": "@jupyter-widgets/controls",
      "_model_module_version": "1.5.0",
      "_model_name": "HTMLModel",
      "_view_count": null,
      "_view_module": "@jupyter-widgets/controls",
      "_view_module_version": "1.5.0",
      "_view_name": "HTMLView",
      "description": "",
      "description_tooltip": null,
      "layout": "IPY_MODEL_57133079d0744627b16a98b3c39fdf45",
      "placeholder": "​",
      "style": "IPY_MODEL_8581091a903f42a4954891122c0b3244",
      "value": " 1649664/? [00:00&lt;00:00, 25567832.19it/s]"
     }
    },
    "ed61034ad204453ea00cc37f4c0ee6b8": {
     "model_module": "@jupyter-widgets/controls",
     "model_module_version": "1.5.0",
     "model_name": "HBoxModel",
     "state": {
      "_dom_classes": [],
      "_model_module": "@jupyter-widgets/controls",
      "_model_module_version": "1.5.0",
      "_model_name": "HBoxModel",
      "_view_count": null,
      "_view_module": "@jupyter-widgets/controls",
      "_view_module_version": "1.5.0",
      "_view_name": "HBoxView",
      "box_style": "",
      "children": [
       "IPY_MODEL_e38486bebbe840089bd7a4ce439a94df",
       "IPY_MODEL_1a0c3e7c8f2841d69a23f6fc817f9265",
       "IPY_MODEL_db6b71a6a14646e9a4111d1bb0c3ecbe"
      ],
      "layout": "IPY_MODEL_2b82125dce114fb68c0fe81cb1aad972"
     }
    },
    "f1062ea494c44b2e8cb1ee5532b0ca39": {
     "model_module": "@jupyter-widgets/controls",
     "model_module_version": "1.5.0",
     "model_name": "DescriptionStyleModel",
     "state": {
      "_model_module": "@jupyter-widgets/controls",
      "_model_module_version": "1.5.0",
      "_model_name": "DescriptionStyleModel",
      "_view_count": null,
      "_view_module": "@jupyter-widgets/base",
      "_view_module_version": "1.2.0",
      "_view_name": "StyleView",
      "description_width": ""
     }
    },
    "f73cc6556ca44df8bd58f6704d0a05cd": {
     "model_module": "@jupyter-widgets/controls",
     "model_module_version": "1.5.0",
     "model_name": "DescriptionStyleModel",
     "state": {
      "_model_module": "@jupyter-widgets/controls",
      "_model_module_version": "1.5.0",
      "_model_name": "DescriptionStyleModel",
      "_view_count": null,
      "_view_module": "@jupyter-widgets/base",
      "_view_module_version": "1.2.0",
      "_view_name": "StyleView",
      "description_width": ""
     }
    },
    "fac90bd1d6e04008b2ae9f4281934e7c": {
     "model_module": "@jupyter-widgets/base",
     "model_module_version": "1.2.0",
     "model_name": "LayoutModel",
     "state": {
      "_model_module": "@jupyter-widgets/base",
      "_model_module_version": "1.2.0",
      "_model_name": "LayoutModel",
      "_view_count": null,
      "_view_module": "@jupyter-widgets/base",
      "_view_module_version": "1.2.0",
      "_view_name": "LayoutView",
      "align_content": null,
      "align_items": null,
      "align_self": null,
      "border": null,
      "bottom": null,
      "display": null,
      "flex": null,
      "flex_flow": null,
      "grid_area": null,
      "grid_auto_columns": null,
      "grid_auto_flow": null,
      "grid_auto_rows": null,
      "grid_column": null,
      "grid_gap": null,
      "grid_row": null,
      "grid_template_areas": null,
      "grid_template_columns": null,
      "grid_template_rows": null,
      "height": null,
      "justify_content": null,
      "justify_items": null,
      "left": null,
      "margin": null,
      "max_height": null,
      "max_width": null,
      "min_height": null,
      "min_width": null,
      "object_fit": null,
      "object_position": null,
      "order": null,
      "overflow": null,
      "overflow_x": null,
      "overflow_y": null,
      "padding": null,
      "right": null,
      "top": null,
      "visibility": null,
      "width": null
     }
    },
    "fb0bce70a33143fcaf1c3e0544803db4": {
     "model_module": "@jupyter-widgets/controls",
     "model_module_version": "1.5.0",
     "model_name": "HTMLModel",
     "state": {
      "_dom_classes": [],
      "_model_module": "@jupyter-widgets/controls",
      "_model_module_version": "1.5.0",
      "_model_name": "HTMLModel",
      "_view_count": null,
      "_view_module": "@jupyter-widgets/controls",
      "_view_module_version": "1.5.0",
      "_view_name": "HTMLView",
      "description": "",
      "description_tooltip": null,
      "layout": "IPY_MODEL_fc3a7dcbe36f4cca98fe71a7b8c2a992",
      "placeholder": "​",
      "style": "IPY_MODEL_f1062ea494c44b2e8cb1ee5532b0ca39",
      "value": ""
     }
    },
    "fc3a7dcbe36f4cca98fe71a7b8c2a992": {
     "model_module": "@jupyter-widgets/base",
     "model_module_version": "1.2.0",
     "model_name": "LayoutModel",
     "state": {
      "_model_module": "@jupyter-widgets/base",
      "_model_module_version": "1.2.0",
      "_model_name": "LayoutModel",
      "_view_count": null,
      "_view_module": "@jupyter-widgets/base",
      "_view_module_version": "1.2.0",
      "_view_name": "LayoutView",
      "align_content": null,
      "align_items": null,
      "align_self": null,
      "border": null,
      "bottom": null,
      "display": null,
      "flex": null,
      "flex_flow": null,
      "grid_area": null,
      "grid_auto_columns": null,
      "grid_auto_flow": null,
      "grid_auto_rows": null,
      "grid_column": null,
      "grid_gap": null,
      "grid_row": null,
      "grid_template_areas": null,
      "grid_template_columns": null,
      "grid_template_rows": null,
      "height": null,
      "justify_content": null,
      "justify_items": null,
      "left": null,
      "margin": null,
      "max_height": null,
      "max_width": null,
      "min_height": null,
      "min_width": null,
      "object_fit": null,
      "object_position": null,
      "order": null,
      "overflow": null,
      "overflow_x": null,
      "overflow_y": null,
      "padding": null,
      "right": null,
      "top": null,
      "visibility": null,
      "width": null
     }
    },
    "fe07c42961324c17aba78f6108087e65": {
     "model_module": "@jupyter-widgets/controls",
     "model_module_version": "1.5.0",
     "model_name": "ProgressStyleModel",
     "state": {
      "_model_module": "@jupyter-widgets/controls",
      "_model_module_version": "1.5.0",
      "_model_name": "ProgressStyleModel",
      "_view_count": null,
      "_view_module": "@jupyter-widgets/base",
      "_view_module_version": "1.2.0",
      "_view_name": "StyleView",
      "bar_color": null,
      "description_width": ""
     }
    }
   }
  }
 },
 "nbformat": 4,
 "nbformat_minor": 4
}
